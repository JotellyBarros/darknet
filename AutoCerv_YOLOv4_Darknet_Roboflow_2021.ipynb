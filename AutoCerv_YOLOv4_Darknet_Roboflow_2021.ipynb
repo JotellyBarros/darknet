{
    "cells": [
        {
            "cell_type": "markdown",
            "source": [
                "## Introduction"
            ],
            "metadata": {}
        },
        {
            "cell_type": "markdown",
            "source": [
                "## STEP 1. Install"
            ],
            "metadata": {}
        },
        {
            "cell_type": "markdown",
            "source": [
                "## Configuring cuDNN on Colab for YOLOv4"
            ],
            "metadata": {}
        },
        {
            "cell_type": "code",
            "execution_count": null,
            "source": [
                "# CUDA: Let's check that Nvidia CUDA drivers are already pre-installed and which version is it.\n",
                "!/usr/local/cuda/bin/nvcc --version\n",
                "# sudo apt install nvidia-cuda-toolkit\n",
                "# We need to install the correct cuDNN according to this output"
            ],
            "outputs": [],
            "metadata": {}
        },
        {
            "cell_type": "code",
            "execution_count": null,
            "source": [
                "!nvidia-smi"
            ],
            "outputs": [],
            "metadata": {}
        },
        {
            "cell_type": "code",
            "execution_count": null,
            "source": [
                "# This cell ensures you have the correct architecture for your respective GPU\n",
                "# If you command is not found, look through these GPUs, find the respective\n",
                "# GPU and add them to the archTypes dictionary\n",
                "\n",
                "# Tesla V100\n",
                "# ARCH= -gencode arch=compute_70,code=[sm_70,compute_70]\n",
                "\n",
                "# Tesla K80 \n",
                "# ARCH= -gencode arch=compute_37,code=sm_37\n",
                "\n",
                "# GeForce RTX 2080 Ti, RTX 2080, RTX 2070, Quadro RTX 8000, Quadro RTX 6000, Quadro RTX 5000, Tesla T4, XNOR Tensor Cores\n",
                "# ARCH= -gencode arch=compute_75,code=[sm_75,compute_75]\n",
                "\n",
                "# Jetson XAVIER\n",
                "# ARCH= -gencode arch=compute_72,code=[sm_72,compute_72]\n",
                "\n",
                "# GTX 1080, GTX 1070, GTX 1060, GTX 1050, GTX 1030, Titan Xp, Tesla P40, Tesla P4\n",
                "# ARCH= -gencode arch=compute_61,code=sm_61\n",
                "\n",
                "# GP100/Tesla P100 - DGX-1\n",
                "# ARCH= -gencode arch=compute_60,code=sm_60\n",
                "\n",
                "# For Jetson TX1, Tegra X1, DRIVE CX, DRIVE PX - uncomment:\n",
                "# ARCH= -gencode arch=compute_53,code=[sm_53,compute_53]\n",
                "\n",
                "# For Jetson Tx2 or Drive-PX2 uncomment:\n",
                "# ARCH= -gencode arch=compute_62,code=[sm_62,compute_62]\n",
                "import os\n",
                "os.environ['GPU_TYPE'] = str(os.popen('nvidia-smi --query-gpu=name --format=csv,noheader').read())\n",
                "\n",
                "def getGPUArch(argument):\n",
                "  try:\n",
                "    argument = argument.strip()\n",
                "    # All Colab GPUs\n",
                "    archTypes = {\n",
                "        \"Tesla V100-SXM2-16GB\": \"-gencode arch=compute_70,code=[sm_70,compute_70]\",\n",
                "        \"Tesla K80\": \"-gencode arch=compute_37,code=sm_37\",\n",
                "        \"Tesla T4\": \"-gencode arch=compute_75,code=[sm_75,compute_75]\",\n",
                "        \"GeForce GTX 1060 6GB\": \"-gencode arch=compute_61,code=sm_61\",\n",
                "        \"Tesla P100-PCIE-16GB\": \"-gencode arch=compute_60,code=sm_60\"\n",
                "\n",
                "      }\n",
                "    return archTypes[argument]\n",
                "  except KeyError:\n",
                "    return \"GPU must be added to GPU Commands\"\n",
                "os.environ['ARCH_VALUE'] = getGPUArch(os.environ['GPU_TYPE'])\n",
                "\n",
                "print(\"GPU Type: \" + os.environ['GPU_TYPE'])\n",
                "print(\"ARCH Value: \" + os.environ['ARCH_VALUE'])"
            ],
            "outputs": [],
            "metadata": {}
        },
        {
            "cell_type": "markdown",
            "source": [
                "## Step 2: Installing Darknet for YOLOv4 on Colab"
            ],
            "metadata": {}
        },
        {
            "cell_type": "code",
            "execution_count": null,
            "source": [
                "# %sudo chmod -R 777 /content\n",
                "%cd /content/\n",
                "%rm -rf darknet\n",
                "%mkdir -p /content/darknet/"
            ],
            "outputs": [],
            "metadata": {}
        },
        {
            "cell_type": "code",
            "execution_count": null,
            "source": [
                "%cd /content/\n",
                "# !git clone https://github.com/roboflow-ai/darknet.git\n",
                "!git clone https://github.com/AlexeyAB/darknet.git\n",
                "\n",
                "#download object-detection-yolo-opencv\n",
                "!git clone https://github.com/JotellyBarros/object-detection-yolo-opencv.git"
            ],
            "outputs": [],
            "metadata": {}
        },
        {
            "cell_type": "code",
            "execution_count": null,
            "source": [
                "# Install environment from the Makefile\n",
                "#note if you are on Colab Pro this works on a P100 GPU\n",
                "#if you are on Colab free, you may need to change the Makefile for the K80 GPU\n",
                "#this goes for any GPU, you need to change the Makefile to inform darknet which GPU you are running on.\n",
                "#note the Makefile above should work for you, if you need to tweak, try the below\n",
                "%cd /content/darknet/\n",
                "# !sed -i 's/OPENCV=0/OPENCV=1/g' Makefile\n",
                "# !sed -i 's/GPU=0/GPU=1/g' Makefile\n",
                "# !sed -i 's/CUDNN=0/CUDNN=1/g' Makefile\n",
                "# !sed -i \"s/ARCH= -gencode arch=compute_61,code=sm_61/ARCH= ${ARCH_VALUE}/g\" Makefile\n",
                "!make clean\n",
                "!make"
            ],
            "outputs": [],
            "metadata": {}
        },
        {
            "cell_type": "code",
            "execution_count": null,
            "source": [
                "#download the newly released yolov4 ConvNet weights\n",
                "%cd /content/darknet\n",
                "!wget https://github.com/AlexeyAB/darknet/releases/download/darknet_yolo_v3_optimal/yolov4.conv.137"
            ],
            "outputs": [],
            "metadata": {}
        },
        {
            "cell_type": "markdown",
            "source": [
                "## Set up Custom Dataset for YOLOv4\n",
                "\n",
                "We'll use Roboflow to convert our dataset from any format to the YOLO Darknet format. \n",
                "\n",
                "1. To do so, create a free [Roboflow account](https://app.roboflow.ai).\n",
                "2. Upload your images and their annotations (in any format: VOC XML, COCO JSON, TensorFlow CSV, etc).\n",
                "3. Apply preprocessing and augmentation steps you may like. We recommend at least `auto-orient` and a `resize` to 416x416. Generate your dataset.\n",
                "4. Export your dataset in the **YOLO Darknet format**.\n",
                "5. Copy your download link, and paste it below.\n",
                "\n",
                "See our [blog post](https://blog.roboflow.ai/training-yolov4-on-a-custom-dataset/) for greater detail.\n",
                "\n",
                "In this example, I used the open source [BCCD Dataset](https://public.roboflow.ai/object-detection/bccd). (You can `fork` it to your Roboflow account to follow along.)"
            ],
            "metadata": {}
        },
        {
            "cell_type": "code",
            "execution_count": null,
            "source": [
                "#if you already have YOLO darknet format, you can skip this step\n",
                "%cd /content/darknet\n",
                "!curl -L \"https://app.roboflow.com/ds/P8F8YLMLYe?key=0KN7FVT4h7\" > roboflow.zip; unzip roboflow.zip; rm roboflow.zip"
            ],
            "outputs": [],
            "metadata": {}
        },
        {
            "cell_type": "code",
            "execution_count": null,
            "source": [
                "#Set up training file directories for custom dataset\n",
                "%cd /content/darknet/\n",
                "%cp train/_darknet.labels data/obj.names\n",
                "# %mkdir data/obj\n",
                "#copy image and labels\n",
                "%cp train/*.jpg data/obj/\n",
                "%cp valid/*.jpg data/obj/\n",
                "\n",
                "%cp train/*.txt data/obj/\n",
                "%cp valid/*.txt data/obj/\n",
                "\n",
                "with open('data/obj.data', 'w') as out:\n",
                "  out.write('classes = 3\\n')\n",
                "  out.write('train = data/train.txt\\n')\n",
                "  out.write('valid = data/valid.txt\\n')\n",
                "  out.write('names = data/obj.names\\n')\n",
                "  out.write('backup = backup/')\n",
                "\n",
                "#write train file (just the image list)\n",
                "import os\n",
                "\n",
                "with open('data/train.txt', 'w') as out:\n",
                "  for img in [f for f in os.listdir('train') if f.endswith('jpg')]:\n",
                "    out.write('data/obj/' + img + '\\n')\n",
                "\n",
                "#write the valid file (just the image list)\n",
                "import os\n",
                "\n",
                "with open('data/valid.txt', 'w') as out:\n",
                "  for img in [f for f in os.listdir('valid') if f.endswith('jpg')]:\n",
                "    out.write('data/obj/' + img + '\\n')"
            ],
            "outputs": [],
            "metadata": {}
        },
        {
            "cell_type": "markdown",
            "source": [
                "## Write Custom Training Config for YOLOv4"
            ],
            "metadata": {}
        },
        {
            "cell_type": "code",
            "execution_count": null,
            "source": [
                "%cd /content/darknet/cfg/\n",
                "!wget https://raw.githubusercontent.com/roboflow-ai/darknet/master/cfg/yolov4-custom.cfg\n",
                "!wget https://raw.githubusercontent.com/roboflow-ai/darknet/master/cfg/yolov4-custom1.cfg\n",
                "!wget https://raw.githubusercontent.com/roboflow-ai/darknet/master/cfg/yolov4-custom2.cfg\n",
                "!wget https://raw.githubusercontent.com/roboflow-ai/darknet/master/cfg/yolov4-custom3.cfg\n",
                "!wget https://raw.githubusercontent.com/roboflow-ai/darknet/master/cfg/yolov4-custom4.cfg\n",
                "!wget https://raw.githubusercontent.com/roboflow-ai/darknet/master/cfg/yolov4-custom5.cfg"
            ],
            "outputs": [],
            "metadata": {}
        },
        {
            "cell_type": "code",
            "execution_count": null,
            "source": [
                "%cd /content/darknet/\n",
                "#we build config dynamically based on number of classes\n",
                "#we build iteratively from base config files. This is the same file shape as cfg/yolo-obj.cfg\n",
                "def file_len(fname):\n",
                "  with open(fname) as f:\n",
                "    for i, l in enumerate(f):\n",
                "      pass\n",
                "  return i + 1\n",
                "\n",
                "num_classes = file_len('train/_darknet.labels')\n",
                "print(\"writing config for a custom YOLOv4 detector detecting number of classes: \" + str(num_classes))\n",
                "\n",
                "#Instructions from the darknet repo\n",
                "#change line max_batches to (classes*2000 but not less than number of training images, and not less than 6000), f.e. max_batches=6000 if you train for 3 classes\n",
                "#change line steps to 80% and 90% of max_batches, f.e. steps=4800,5400\n",
                "if os.path.exists('./cfg/custom-yolov4-detector.cfg'): os.remove('./cfg/custom-yolov4-detector.cfg')\n",
                "\n",
                "\n",
                "with open('./cfg/custom-yolov4-detector.cfg', 'a') as f:\n",
                "  f.write('[net]' + '\\n')\n",
                "  f.write('batch=64' + '\\n')\n",
                "  #####smaller subdivisions help the GPU run faster. 12 is optimal, but you might need to change to 24,36,64####\n",
                "  f.write('subdivisions=24' + '\\n')\n",
                "  f.write('width=416' + '\\n')\n",
                "  f.write('height=416' + '\\n')\n",
                "  f.write('channels=3' + '\\n')\n",
                "  f.write('momentum=0.949' + '\\n')\n",
                "  f.write('decay=0.0005' + '\\n')\n",
                "  f.write('angle=0' + '\\n')\n",
                "  f.write('saturation = 1.5' + '\\n')\n",
                "  f.write('exposure = 1.5' + '\\n')\n",
                "  f.write('hue = .1' + '\\n')\n",
                "  f.write('\\n')\n",
                "  f.write('learning_rate=0.001' + '\\n')\n",
                "  f.write('burn_in=1000' + '\\n')\n",
                "  ######you can adjust up and down to change training time#####\n",
                "  ##Darknet does iterations with batches, not epochs####\n",
                "  # max_batches = num_classes*2000\n",
                "  max_batches = 2000\n",
                "  f.write('max_batches=' + str(max_batches) + '\\n')\n",
                "  f.write('policy=steps' + '\\n')\n",
                "  steps1 = .8 * max_batches\n",
                "  steps2 = .9 * max_batches\n",
                "  f.write('steps='+str(steps1)+','+str(steps2) + '\\n')\n",
                "\n",
                "#Instructions from the darknet repo\n",
                "#change line classes=80 to your number of objects in each of 3 [yolo]-layers:\n",
                "#change [filters=255] to filters=(classes + 5)x3 in the 3 [convolutional] before each [yolo] layer, keep in mind that it only has to be the last [convolutional] before each of the [yolo] layers.\n",
                "\n",
                "  with open('cfg/yolov4-custom2.cfg', 'r') as f2:\n",
                "    content = f2.readlines()\n",
                "    for line in content:\n",
                "      f.write(line)    \n",
                "    num_filters = (num_classes + 5) * 3\n",
                "    f.write('filters='+str(num_filters) + '\\n')\n",
                "    f.write('activation=linear')\n",
                "    f.write('\\n')\n",
                "    f.write('\\n')\n",
                "    f.write('[yolo]' + '\\n')\n",
                "    f.write('mask = 0,1,2' + '\\n')\n",
                "    f.write('anchors = 12, 16, 19, 36, 40, 28, 36, 75, 76, 55, 72, 146, 142, 110, 192, 243, 459, 401' + '\\n')\n",
                "    f.write('classes=' + str(num_classes) + '\\n')\n",
                "\n",
                "  with open('cfg/yolov4-custom3.cfg', 'r') as f3:\n",
                "    content = f3.readlines()\n",
                "    for line in content:\n",
                "      f.write(line)    \n",
                "    num_filters = (num_classes + 5) * 3\n",
                "    f.write('filters='+str(num_filters) + '\\n')\n",
                "    f.write('activation=linear')\n",
                "    f.write('\\n')\n",
                "    f.write('\\n')\n",
                "    f.write('[yolo]' + '\\n')\n",
                "    f.write('mask = 3,4,5' + '\\n')\n",
                "    f.write('anchors = 12, 16, 19, 36, 40, 28, 36, 75, 76, 55, 72, 146, 142, 110, 192, 243, 459, 401' + '\\n')\n",
                "    f.write('classes=' + str(num_classes) + '\\n')\n",
                "\n",
                "  with open('cfg/yolov4-custom4.cfg', 'r') as f4:\n",
                "    content = f4.readlines()\n",
                "    for line in content:\n",
                "      f.write(line)    \n",
                "    num_filters = (num_classes + 5) * 3\n",
                "    f.write('filters='+str(num_filters) + '\\n')\n",
                "    f.write('activation=linear')\n",
                "    f.write('\\n')\n",
                "    f.write('\\n')\n",
                "    f.write('[yolo]' + '\\n')\n",
                "    f.write('mask = 6,7,8' + '\\n')\n",
                "    f.write('anchors = 12, 16, 19, 36, 40, 28, 36, 75, 76, 55, 72, 146, 142, 110, 192, 243, 459, 401' + '\\n')\n",
                "    f.write('classes=' + str(num_classes) + '\\n')\n",
                "    \n",
                "  with open('cfg/yolov4-custom5.cfg', 'r') as f5:\n",
                "    content = f5.readlines()\n",
                "    for line in content:\n",
                "      f.write(line)\n",
                "\n",
                "print(\"file is written!\")"
            ],
            "outputs": [],
            "metadata": {}
        },
        {
            "cell_type": "code",
            "execution_count": null,
            "source": [
                "#here is the file that was just written. \n",
                "#you may consider adjusting certain things\n",
                "\n",
                "#like the number of subdivisions 64 runs faster but Colab GPU may not be big enough\n",
                "#if Colab GPU memory is too small, you will need to adjust subdivisions to 16\n",
                "%cat cfg/custom-yolov4-detector.cfg"
            ],
            "outputs": [],
            "metadata": {}
        },
        {
            "cell_type": "markdown",
            "source": [
                "## Train Custom YOLOv4 Detector"
            ],
            "metadata": {}
        },
        {
            "cell_type": "code",
            "execution_count": null,
            "source": [
                "!./darknet detector train data/obj.data cfg/custom-yolov4-detector.cfg yolov4.conv.137 -dont_show -map\n",
                "#If you get CUDA out of memory adjust subdivisions above!\n",
                "#adjust max batches down for shorter training above"
            ],
            "outputs": [],
            "metadata": {}
        }
    ],
    "metadata": {
        "orig_nbformat": 4,
        "language_info": {
            "name": "python"
        }
    },
    "nbformat": 4,
    "nbformat_minor": 2
}